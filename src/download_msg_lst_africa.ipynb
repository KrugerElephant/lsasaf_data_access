{
 "cells": [
  {
   "cell_type": "code",
   "execution_count": 15,
   "metadata": {},
   "outputs": [
    {
     "name": "stdout",
     "output_type": "stream",
     "text": [
      "Will load:24 files: 2024-08-01 00:00:00 to 2024-08-01 23:00:00\n"
     ]
    },
    {
     "name": "stderr",
     "output_type": "stream",
     "text": [
      "Processing 2024-08-01 23:00:00: 100%|██████████| 24/24 [00:18<00:00,  1.28it/s]\n"
     ]
    },
    {
     "name": "stdout",
     "output_type": "stream",
     "text": [
      "Loaded 24 out of 24 slots with dims: FrozenMappingWarningOnValuesAccess({'time': 24, 'lat': 4, 'lon': 6}) in 18.69 seconds \n",
      "GeoDataFrame saved for 2024-08-01 as ../downloads/MSG_2ND/kisumu/KISUMU_LST_2024-08-01.gpkg\n",
      "Will load:24 files: 2024-08-02 00:00:00 to 2024-08-02 23:00:00\n"
     ]
    },
    {
     "name": "stderr",
     "output_type": "stream",
     "text": [
      "Processing 2024-08-02 23:00:00: 100%|██████████| 24/24 [00:18<00:00,  1.29it/s]"
     ]
    },
    {
     "name": "stdout",
     "output_type": "stream",
     "text": [
      "Loaded 24 out of 24 slots with dims: FrozenMappingWarningOnValuesAccess({'time': 24, 'lat': 4, 'lon': 6}) in 18.67 seconds \n",
      "GeoDataFrame saved for 2024-08-02 as ../downloads/MSG_2ND/kisumu/KISUMU_LST_2024-08-02.gpkg\n"
     ]
    },
    {
     "name": "stderr",
     "output_type": "stream",
     "text": [
      "\n"
     ]
    }
   ],
   "source": [
    "import datetime as dt\n",
    "import thredds_lsasaf_utils as tlu\n",
    "import geopandas as gpd\n",
    "from shapely.geometry import Point\n",
    "\n",
    "def download_data(dstart, dend, product_freq, LatLonBox):\n",
    "    # Change here your user credentials\n",
    "    server_user = \"karpagam\"\n",
    "    server_passwd = \"chip-chop-2025\"\n",
    "\n",
    "    # Change here the product details\n",
    "    product_path = \"/MSG/MLST/NETCDF/\"\n",
    "    product_fname = \"NETCDF4_LSASAF_MSG_LST_MSG-Disk\"\n",
    "    NcvarsLoad = ['LST']  # list of netcdf variables to load from remote files\n",
    "\n",
    "    # Initialize product details\n",
    "    product = tlu.lsa_product(product_path, product_fname)\n",
    "    product.user = server_user\n",
    "    product.passwd = server_passwd\n",
    "\n",
    "    # List of slots to be processed:\n",
    "    slot_list = tlu.gen_slot_list(dstart, dend, product_freq)\n",
    "    print(f\"Will load:{len(slot_list)} files: {slot_list[0]} to {slot_list[-1]}\")\n",
    "\n",
    "    # Load data\n",
    "    ds_full = tlu.load_product_slots_domain(product, slot_list, NcvarsLoad, LatLonBox=LatLonBox)\n",
    "\n",
    "    # Extract the temperature DataArray\n",
    "    temperature_da = ds_full['LST']\n",
    "\n",
    "    # Stack dimensions (combine 'time', 'lat', and 'lon') and reset the index\n",
    "    df = temperature_da.stack(points=('time', 'lat', 'lon')).reset_index(['time', 'lat', 'lon']).to_dataframe(name='temperature').reset_index(drop=True)\n",
    "\n",
    "    # Add additional columns\n",
    "    df['minute'] = df['time'].dt.minute  # Added minute column\n",
    "    df['hour'] = df['time'].dt.hour\n",
    "    df['day'] = df['time'].dt.day\n",
    "    df['month'] = df['time'].dt.month\n",
    "    df['year'] = df['time'].dt.year\n",
    "\n",
    "    # Create geometry from latitude and longitude\n",
    "    geometry = [Point(xy) for xy in zip(df['lon'], df['lat'])]\n",
    "\n",
    "    # Convert to GeoDataFrame\n",
    "    gdf = gpd.GeoDataFrame(df, geometry=geometry)\n",
    "\n",
    "    # Set the Coordinate Reference System (CRS) - assuming WGS84 (EPSG:4326)\n",
    "    gdf.set_crs(epsg=4326, inplace=True)\n",
    "\n",
    "    return gdf\n",
    "\n",
    "\n",
    "# Time period to process\n",
    "dstart = dt.datetime(2024, 8, 1, 0, 0, 0)  # start slot\n",
    "dend = dt.datetime(2024, 8, 2, 23, 59, 59)  # end slot\n",
    "\n",
    "# Frequency\n",
    "# product_freq = \"h\"  # hourly frequency\n",
    "\n",
    "product_freq = \"h\"  # hourly frequency\n",
    "\n",
    "# Define latitude/longitude domain to load [lat_min, lat_max, lon_min, lon_max]\n",
    "# Kisumu, Kenya\n",
    "LatLonBox = [-0.16513, 0.00695, 34.62064, 34.90344]\n",
    "\n",
    "# Kampala, Uganda\n",
    "# LatLonBox = [0.245, 0.355, 32.522, 32.635]\n",
    "\n",
    "# Soroti, Uganda\n",
    "# LatLonBox = [1.680, 1.720, 33.580, 33.640]\n",
    "\n",
    "# Chimoio, Mozambique\n",
    "# LatLonBox = [-19.050, -19.000, 33.450, 33.500]\n",
    "\n",
    "# Pemba, Mozambique\n",
    "# LatLonBox = [-13.000, -12.950, 40.500, 40.550]\n",
    "\n",
    "# Algiers (Alger), Algeria\n",
    "# LatLonBox = [36.700, 36.780, 3.050, 3.100]\n",
    "\n",
    "# Constantine, Algeria\n",
    "# LatLonBox = [36.330, 36.380, 6.600, 6.700]\n",
    "\n",
    "# Abidjan, Côte d'Ivoire\n",
    "# LatLonBox = [5.300, 5.400, -4.050, -3.900]\n",
    "\n",
    "# Bouaké, Côte d'Ivoire\n",
    "# LatLonBox = [7.650, 7.750, -5.050, -4.950]\n",
    "\n",
    "# Loop through each day\n",
    "current_day = dstart\n",
    "while current_day <= dend:\n",
    "    next_day = current_day + dt.timedelta(days=1) - dt.timedelta(seconds=1)\n",
    "\n",
    "    # Download data for the current day\n",
    "    gdf = download_data(current_day, next_day, product_freq, LatLonBox)\n",
    "\n",
    "    # Create filename for GeoPackage\n",
    "    gpkg_filename = f'../downloads/MSG_2ND/kisumu/KISUMU_LST_{current_day.year}-{current_day.month:02d}-{current_day.day:02d}.gpkg'\n",
    "\n",
    "    # Save to GeoPackage\n",
    "    gdf.to_file(gpkg_filename, driver=\"GPKG\")\n",
    "\n",
    "    print(f'GeoDataFrame saved for {current_day.date()} as {gpkg_filename}')\n",
    "\n",
    "    # Move to the next day\n",
    "    current_day = next_day + dt.timedelta(seconds=1)"
   ]
  }
 ],
 "metadata": {
  "kernelspec": {
   "display_name": ".venv",
   "language": "python",
   "name": "python3"
  },
  "language_info": {
   "codemirror_mode": {
    "name": "ipython",
    "version": 3
   },
   "file_extension": ".py",
   "mimetype": "text/x-python",
   "name": "python",
   "nbconvert_exporter": "python",
   "pygments_lexer": "ipython3",
   "version": "3.10.12"
  }
 },
 "nbformat": 4,
 "nbformat_minor": 2
}
