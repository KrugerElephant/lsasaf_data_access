{
 "cells": [
  {
   "cell_type": "code",
   "execution_count": 5,
   "metadata": {},
   "outputs": [],
   "source": [
    "import rasterio\n",
    "from rasterio.warp import reproject, Resampling\n",
    "import numpy as np\n",
    "\n",
    "# Define LULC columns and their remapped names\n",
    "lulc_columns_remap = ['water', 'trees', 'flooded_veg', 'crop', 'built_area', 'bare_ground', 'range_land']\n",
    "\n",
    "# Input file paths\n",
    "lulc_path = \"ESRI_LULC_2023_Rome.tif\"  # LULC raster file path\n",
    "lst_path = \"../ecostress_LST/ECO2LSTE.001_SDS_LST_doy2024181064258_aid0001.tif\"  # LST raster file path\n",
    "output_path = \"ESRI_LULC_2023_Rome_PROFILE_70m.tif\"  # Output raster file path\n",
    "\n",
    "# Read LULC raster and LST raster\n",
    "with rasterio.open(lulc_path) as lulc_raster, rasterio.open(lst_path) as lst_raster:\n",
    "    # Calculate the intersection of bounding boxes\n",
    "    left = max(lulc_raster.bounds.left, lst_raster.bounds.left)\n",
    "    bottom = max(lulc_raster.bounds.bottom, lst_raster.bounds.bottom)\n",
    "    right = min(lulc_raster.bounds.right, lst_raster.bounds.right)\n",
    "    top = min(lulc_raster.bounds.top, lst_raster.bounds.top)\n",
    "    intersection = (left, bottom, right, top)\n",
    "\n",
    "    # Crop to the overlapping area\n",
    "    lulc_window = rasterio.windows.from_bounds(*intersection, transform=lulc_raster.transform)\n",
    "    lst_window = rasterio.windows.from_bounds(*intersection, transform=lst_raster.transform)\n",
    "\n",
    "    lulc_data = lulc_raster.read(1, window=lulc_window)  # Read single band\n",
    "    lst_data = lst_raster.read(1, window=lst_window)\n",
    "\n",
    "    # Update profiles for further processing\n",
    "    lulc_profile = lulc_raster.profile\n",
    "    lst_profile = lst_raster.profile\n",
    "\n",
    "# Resample LULC to match LST resolution\n",
    "resampled_lulc = np.empty_like(lst_data, dtype=np.int32)\n",
    "reproject(\n",
    "    lulc_data,\n",
    "    resampled_lulc,\n",
    "    src_transform=lulc_profile[\"transform\"],\n",
    "    dst_transform=lst_profile[\"transform\"],\n",
    "    src_crs=lulc_profile[\"crs\"],\n",
    "    dst_crs=lst_profile[\"crs\"],\n",
    "    resampling=Resampling.nearest  # Use nearest neighbor for categorical data\n",
    ")\n",
    "\n",
    "# Calculate proportions for each LULC class\n",
    "unique_classes = np.unique(resampled_lulc)\n",
    "proportions = {}\n"
   ]
  },
  {
   "cell_type": "code",
   "execution_count": 6,
   "metadata": {},
   "outputs": [],
   "source": [
    "\n",
    "for class_value in unique_classes:\n",
    "    # Create a binary mask for the current class\n",
    "    mask = (resampled_lulc == class_value).astype(np.float32)\n",
    "    proportions[class_value] = mask  # Store the binary mask as a proportion\n"
   ]
  },
  {
   "cell_type": "code",
   "execution_count": 7,
   "metadata": {},
   "outputs": [],
   "source": [
    "# Remap class values to LULC column names\n",
    "class_mapping = {i + 1: name for i, name in enumerate(lulc_columns_remap)}\n",
    "remapped_proportions = {\n",
    "    class_mapping[class_value]: proportions[class_value]\n",
    "    for class_value in unique_classes if class_value in class_mapping\n",
    "}"
   ]
  },
  {
   "cell_type": "code",
   "execution_count": null,
   "metadata": {},
   "outputs": [],
   "source": [
    "remapped_proportions"
   ]
  },
  {
   "cell_type": "code",
   "execution_count": 11,
   "metadata": {},
   "outputs": [],
   "source": [
    "# Update the profile with the correct number of bands\n",
    "lst_profile.update(count=len(remapped_proportions))\n",
    "\n",
    "# Write output raster\n",
    "with rasterio.open(output_path, 'w', **lst_profile) as dst:\n",
    "    for idx, (band_name, data) in enumerate(remapped_proportions.items(), start=1):\n",
    "        dst.write_band(idx, data.astype(rasterio.float32))  # Ensure data type matches\n"
   ]
  },
  {
   "cell_type": "code",
   "execution_count": 16,
   "metadata": {},
   "outputs": [
    {
     "name": "stdout",
     "output_type": "stream",
     "text": [
      "[ 0  1  2  5  7  8 11]\n"
     ]
    }
   ],
   "source": [
    "import rasterio\n",
    "from rasterio.warp import reproject, Resampling\n",
    "import numpy as np\n",
    "\n",
    "# Define LULC columns and their remapped names\n",
    "lulc_columns_remap = ['water', 'trees', 'flooded_veg', 'crop', 'built_area', 'bare_ground', 'range_land']\n",
    "\n",
    "# Input file paths\n",
    "lulc_path = \"ESRI_LULC_2023_Rome.tif\"  # LULC raster file path\n",
    "lst_path = \"../ecostress_LST/ECO2LSTE.001_SDS_LST_doy2024181064258_aid0001.tif\"  # LST raster file path\n",
    "output_path = \"ESRI_LULC_2023_Rome_PROFILE_70m_mb.tif\"  # Output raster file path\n",
    "\n",
    "# Read LULC raster and LST raster\n",
    "with rasterio.open(lulc_path) as lulc_raster, rasterio.open(lst_path) as lst_raster:\n",
    "    # Calculate the intersection of bounding boxes\n",
    "    left = max(lulc_raster.bounds.left, lst_raster.bounds.left)\n",
    "    bottom = max(lulc_raster.bounds.bottom, lst_raster.bounds.bottom)\n",
    "    right = min(lulc_raster.bounds.right, lst_raster.bounds.right)\n",
    "    top = min(lulc_raster.bounds.top, lst_raster.bounds.top)\n",
    "    intersection = (left, bottom, right, top)\n",
    "\n",
    "    # Crop to the overlapping area\n",
    "    lulc_window = rasterio.windows.from_bounds(*intersection, transform=lulc_raster.transform)\n",
    "    lst_window = rasterio.windows.from_bounds(*intersection, transform=lst_raster.transform)\n",
    "\n",
    "    lulc_data = lulc_raster.read(1, window=lulc_window)  # Read single band\n",
    "    lst_data = lst_raster.read(1, window=lst_window)\n",
    "\n",
    "    # Update profiles for further processing\n",
    "    lulc_profile = lulc_raster.profile\n",
    "    lst_profile = lst_raster.profile\n",
    "\n",
    "# Resample LULC to match LST resolution\n",
    "resampled_lulc = np.empty_like(lst_data, dtype=np.int32)\n",
    "reproject(\n",
    "    lulc_data,\n",
    "    resampled_lulc,\n",
    "    src_transform=lulc_profile[\"transform\"],\n",
    "    dst_transform=lst_profile[\"transform\"],\n",
    "    src_crs=lulc_profile[\"crs\"],\n",
    "    dst_crs=lst_profile[\"crs\"],\n",
    "    resampling=Resampling.nearest  # Use nearest neighbor for categorical data\n",
    ")\n",
    "\n",
    "# Calculate proportions for each LULC class\n",
    "unique_classes = np.unique(resampled_lulc)\n",
    "\n",
    "print(unique_classes)\n"
   ]
  },
  {
   "cell_type": "code",
   "execution_count": 17,
   "metadata": {},
   "outputs": [],
   "source": [
    "\n",
    "proportions = []\n",
    "\n",
    "for class_value in unique_classes:\n",
    "    # Create a binary mask for the current class\n",
    "    mask = (resampled_lulc == class_value).astype(np.float32)\n",
    "    proportions.append(mask)  # Store each class's mask as a separate band\n",
    "\n",
    "# Stack proportions into a 3D array (bands, rows, cols)\n",
    "proportions_stack = np.stack(proportions, axis=0)\n",
    "\n",
    "# Update the profile for the output raster\n",
    "lst_profile.update(count=proportions_stack.shape[0], dtype=rasterio.float32)\n"
   ]
  },
  {
   "cell_type": "code",
   "execution_count": 19,
   "metadata": {},
   "outputs": [
    {
     "data": {
      "text/plain": [
       "array([[[1., 1., 1., ..., 1., 1., 1.],\n",
       "        [1., 1., 1., ..., 1., 1., 1.],\n",
       "        [1., 1., 1., ..., 1., 1., 1.],\n",
       "        ...,\n",
       "        [0., 0., 0., ..., 1., 1., 1.],\n",
       "        [0., 0., 0., ..., 1., 1., 1.],\n",
       "        [0., 0., 0., ..., 1., 1., 1.]],\n",
       "\n",
       "       [[0., 0., 0., ..., 0., 0., 0.],\n",
       "        [0., 0., 0., ..., 0., 0., 0.],\n",
       "        [0., 0., 0., ..., 0., 0., 0.],\n",
       "        ...,\n",
       "        [1., 1., 1., ..., 0., 0., 0.],\n",
       "        [1., 1., 1., ..., 0., 0., 0.],\n",
       "        [1., 1., 1., ..., 0., 0., 0.]],\n",
       "\n",
       "       [[0., 0., 0., ..., 0., 0., 0.],\n",
       "        [0., 0., 0., ..., 0., 0., 0.],\n",
       "        [0., 0., 0., ..., 0., 0., 0.],\n",
       "        ...,\n",
       "        [0., 0., 0., ..., 0., 0., 0.],\n",
       "        [0., 0., 0., ..., 0., 0., 0.],\n",
       "        [0., 0., 0., ..., 0., 0., 0.]],\n",
       "\n",
       "       ...,\n",
       "\n",
       "       [[0., 0., 0., ..., 0., 0., 0.],\n",
       "        [0., 0., 0., ..., 0., 0., 0.],\n",
       "        [0., 0., 0., ..., 0., 0., 0.],\n",
       "        ...,\n",
       "        [0., 0., 0., ..., 0., 0., 0.],\n",
       "        [0., 0., 0., ..., 0., 0., 0.],\n",
       "        [0., 0., 0., ..., 0., 0., 0.]],\n",
       "\n",
       "       [[0., 0., 0., ..., 0., 0., 0.],\n",
       "        [0., 0., 0., ..., 0., 0., 0.],\n",
       "        [0., 0., 0., ..., 0., 0., 0.],\n",
       "        ...,\n",
       "        [0., 0., 0., ..., 0., 0., 0.],\n",
       "        [0., 0., 0., ..., 0., 0., 0.],\n",
       "        [0., 0., 0., ..., 0., 0., 0.]],\n",
       "\n",
       "       [[0., 0., 0., ..., 0., 0., 0.],\n",
       "        [0., 0., 0., ..., 0., 0., 0.],\n",
       "        [0., 0., 0., ..., 0., 0., 0.],\n",
       "        ...,\n",
       "        [0., 0., 0., ..., 0., 0., 0.],\n",
       "        [0., 0., 0., ..., 0., 0., 0.],\n",
       "        [0., 0., 0., ..., 0., 0., 0.]]],\n",
       "      shape=(7, 589, 618), dtype=float32)"
      ]
     },
     "execution_count": 19,
     "metadata": {},
     "output_type": "execute_result"
    }
   ],
   "source": [
    "proportions_stack"
   ]
  },
  {
   "cell_type": "code",
   "execution_count": null,
   "metadata": {},
   "outputs": [],
   "source": []
  },
  {
   "cell_type": "code",
   "execution_count": null,
   "metadata": {},
   "outputs": [],
   "source": [
    "\n",
    "# Write output multiband raster\n",
    "with rasterio.open(output_path, 'w', **lst_profile) as dst:\n",
    "    for idx in range(proportions_stack.shape[0]):\n",
    "        dst.write(proportions_stack[idx, :, :], idx + 1)  # Write each band\n"
   ]
  }
 ],
 "metadata": {
  "kernelspec": {
   "display_name": ".venv",
   "language": "python",
   "name": "python3"
  },
  "language_info": {
   "codemirror_mode": {
    "name": "ipython",
    "version": 3
   },
   "file_extension": ".py",
   "mimetype": "text/x-python",
   "name": "python",
   "nbconvert_exporter": "python",
   "pygments_lexer": "ipython3",
   "version": "3.10.12"
  }
 },
 "nbformat": 4,
 "nbformat_minor": 2
}
