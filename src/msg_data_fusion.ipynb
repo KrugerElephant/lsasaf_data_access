{
 "cells": [
  {
   "cell_type": "code",
   "execution_count": 1,
   "metadata": {},
   "outputs": [],
   "source": [
    "import os\n",
    "import common_utils\n",
    "import pandas as pd\n",
    "import geopandas as gpd"
   ]
  },
  {
   "cell_type": "code",
   "execution_count": null,
   "metadata": {},
   "outputs": [],
   "source": [
    "lu_profile_path = '../lu_profiles/rome_2023_landuse_profile_5000m.gpkg'\n",
    "\n",
    "# Read LU profile\n",
    "lu_gdf = gpd.read_file(lu_profile_path)  # Read the .gpkg file\n",
    "\n",
    "lu_gdf.set_crs(epsg=4326, inplace=True)\n",
    "\n",
    "# Update GeoDataFrame geometry\n",
    "lu_gdf['geometry'] = lu_gdf['geometry'].apply(lambda geom: common_utils.round_geometry(geom))"
   ]
  },
  {
   "cell_type": "code",
   "execution_count": 4,
   "metadata": {},
   "outputs": [],
   "source": [
    "# Path to MSG LST files\n",
    "msg_lst_directory = '../downloads/MSG_2ND'\n",
    "\n",
    "# Path to fused file directory\n",
    "output_path = '../msg_lulc_temperature_datetime_fused'"
   ]
  },
  {
   "cell_type": "code",
   "execution_count": null,
   "metadata": {},
   "outputs": [],
   "source": [
    "\n",
    "# Iterate through files in the directory\n",
    "for file in os.listdir(msg_lst_directory):\n",
    "\n",
    "    print(csv_file)\n",
    "\n",
    "    csv_file = os.path.join(msg_lst_directory, file)\n",
    "\n",
    "    # Read .csv file\n",
    "    gdf = common_utils.read_fused_data(csv_file)\n",
    "\n",
    "    # Update GeoDataFrame geometry\n",
    "    gdf['geometry'] = gdf['geometry'].apply(lambda geom: common_utils.round_geometry(geom))\n",
    "\n",
    "    # Perform a left join\n",
    "    result_gdf = gdf.merge(lu_gdf, on='geometry', how='left')\n",
    "\n",
    "    # Save to file\n",
    "    gpkg_file = file.replace('csv', 'gpkg')\n",
    "\n",
    "    output_filepath = os.path.join(output_path, gpkg_file)\n",
    "    result_gdf.to_file(output_filepath, driver='GPKG')\n",
    "\n",
    "\n",
    "result_gdf.head()"
   ]
  }
 ],
 "metadata": {
  "kernelspec": {
   "display_name": ".venv",
   "language": "python",
   "name": "python3"
  },
  "language_info": {
   "codemirror_mode": {
    "name": "ipython",
    "version": 3
   },
   "file_extension": ".py",
   "mimetype": "text/x-python",
   "name": "python",
   "nbconvert_exporter": "python",
   "pygments_lexer": "ipython3",
   "version": "3.10.12"
  }
 },
 "nbformat": 4,
 "nbformat_minor": 2
}
