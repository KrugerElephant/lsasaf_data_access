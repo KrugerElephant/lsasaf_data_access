{
 "cells": [
  {
   "cell_type": "code",
   "execution_count": null,
   "metadata": {},
   "outputs": [],
   "source": [
    "import os\n",
    "import common_utils\n",
    "import pandas as pd\n",
    "import geopandas as gpd\n"
   ]
  },
  {
   "cell_type": "code",
   "execution_count": null,
   "metadata": {},
   "outputs": [],
   "source": [
    "\n",
    "# Directory containing the .gpkg files\n",
    "folder_path = '../msg_lu_fused_data_files'  # Replace with the path to the folder containing .gpkg files\n",
    "\n",
    "# List all .gpkg files in the folder\n",
    "gpkg_files = [f for f in os.listdir(folder_path) if f.endswith('.gpkg')]\n",
    "\n",
    "# Initialize an empty list to store GeoDataFrames\n",
    "gdfs = []\n",
    "\n",
    "# Loop over all .gpkg files and read them into GeoDataFrames\n",
    "for gpkg_file in gpkg_files:\n",
    "    print(gpkg_file)\n",
    "    file_path = os.path.join(folder_path, gpkg_file)\n",
    "    gdf = gpd.read_file(file_path)  # Read the .gpkg file\n",
    "    gdfs.append(gdf)  # Append the GeoDataFrame to the list\n",
    "\n",
    "# Concatenate all GeoDataFrames into a single GeoDataFrame\n",
    "concatenated_gdf = gpd.GeoDataFrame(pd.concat(gdfs, ignore_index=True))\n"
   ]
  },
  {
   "cell_type": "code",
   "execution_count": 5,
   "metadata": {},
   "outputs": [
    {
     "data": {
      "text/plain": [
       "(177040, 22)"
      ]
     },
     "execution_count": 5,
     "metadata": {},
     "output_type": "execute_result"
    }
   ],
   "source": [
    "# Write concatenated file\n",
    "output_directory = '../msg_lu_fused_data_for_glm'\n",
    "filename = 'msg_lu_fused_data_for_glm.gpkg'\n",
    "\n",
    "# Output filename\n",
    "output_filepath = os.path.join(output_directory, filename)\n",
    "\n",
    "# Write concatenated file\n",
    "concatenated_gdf.to_file(output_filepath, driver='GPKG')\n",
    "\n",
    "concatenated_gdf.shape"
   ]
  }
 ],
 "metadata": {
  "kernelspec": {
   "display_name": ".venv",
   "language": "python",
   "name": "python3"
  },
  "language_info": {
   "codemirror_mode": {
    "name": "ipython",
    "version": 3
   },
   "file_extension": ".py",
   "mimetype": "text/x-python",
   "name": "python",
   "nbconvert_exporter": "python",
   "pygments_lexer": "ipython3",
   "version": "3.10.12"
  }
 },
 "nbformat": 4,
 "nbformat_minor": 2
}
