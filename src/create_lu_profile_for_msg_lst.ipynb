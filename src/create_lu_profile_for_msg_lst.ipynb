{
 "cells": [
  {
   "cell_type": "code",
   "execution_count": 19,
   "metadata": {},
   "outputs": [],
   "source": [
    "import common_utils\n",
    "import pandas as pd\n",
    "import geopandas as gpd\n",
    "from shapely.geometry import Point"
   ]
  },
  {
   "cell_type": "code",
   "execution_count": 4,
   "metadata": {},
   "outputs": [],
   "source": [
    "# LU raster files\n",
    "raster_file = 'ESRI_LULC_2023_Rome.tif'\n",
    "\n",
    "# Buffer radius in degrees\n",
    "buffer_radius = 0.05"
   ]
  },
  {
   "cell_type": "code",
   "execution_count": null,
   "metadata": {},
   "outputs": [],
   "source": [
    "gdf.columns"
   ]
  },
  {
   "cell_type": "code",
   "execution_count": 23,
   "metadata": {},
   "outputs": [
    {
     "data": {
      "text/plain": [
       "(80, 9)"
      ]
     },
     "execution_count": 23,
     "metadata": {},
     "output_type": "execute_result"
    }
   ],
   "source": [
    "gdf.shape"
   ]
  },
  {
   "cell_type": "code",
   "execution_count": 25,
   "metadata": {},
   "outputs": [],
   "source": [
    "# Define LULC remap dictionary\n",
    "lulc_remap = {\n",
    "    'lulc_0': 'no_data',\n",
    "    'lulc_1': 'water',\n",
    "    'lulc_2': 'trees',\n",
    "    'lulc_4': 'flooded_veg',\n",
    "    'lulc_5': 'crop',\n",
    "    'lulc_7': 'built_area',\n",
    "    'lulc_8': 'bare_ground',\n",
    "    'lulc_9': 'snow_or_ice',\n",
    "    'lulc_10': 'clouds',\n",
    "    'lulc_11': 'range_land'\n",
    "}\n",
    "\n",
    "gdf['lulc_proportions'] = common_utils.calculate_lulc_proportions(raster_file, gdf['geometry'], buffer_radius, lulc_remap)"
   ]
  },
  {
   "cell_type": "code",
   "execution_count": 26,
   "metadata": {},
   "outputs": [
    {
     "data": {
      "text/plain": [
       "(80, 10)"
      ]
     },
     "execution_count": 26,
     "metadata": {},
     "output_type": "execute_result"
    }
   ],
   "source": [
    "gdf.shape"
   ]
  },
  {
   "cell_type": "code",
   "execution_count": 27,
   "metadata": {},
   "outputs": [],
   "source": [
    "# Expand LULC proportions into separate columns\n",
    "lulc_df = pd.DataFrame(gdf['lulc_proportions'].tolist())\n",
    "final_df = gpd.GeoDataFrame(pd.concat([gdf.drop(columns=['lulc_proportions']), lulc_df], axis=1),\n",
    "                            geometry='geometry', crs=\"EPSG:4326\")"
   ]
  },
  {
   "cell_type": "code",
   "execution_count": 28,
   "metadata": {},
   "outputs": [
    {
     "data": {
      "text/plain": [
       "(80, 19)"
      ]
     },
     "execution_count": 28,
     "metadata": {},
     "output_type": "execute_result"
    }
   ],
   "source": [
    "final_df.shape"
   ]
  },
  {
   "cell_type": "code",
   "execution_count": null,
   "metadata": {},
   "outputs": [],
   "source": [
    "# Summary statistics for all columns in the final GeoDataFrame\n",
    "summary_stats = final_df.describe()\n",
    "\n",
    "# Print the summary statistics\n",
    "print(summary_stats)"
   ]
  },
  {
   "cell_type": "code",
   "execution_count": 29,
   "metadata": {},
   "outputs": [
    {
     "data": {
      "text/plain": [
       "(80, 14)"
      ]
     },
     "execution_count": 29,
     "metadata": {},
     "output_type": "execute_result"
    }
   ],
   "source": [
    "# Step 3: Save the DataFrame as a CSV file\n",
    "final_df.to_csv('lulc_proportions_msg_5km.csv', index=False)\n",
    "\n",
    "keep_columns = ['lat', 'lon', 'temperature','geometry', 'no_data', 'water', 'trees', 'flooded_veg', 'crop', 'built_area', 'bare_ground', 'snow_or_ice', 'clouds', 'range_land']\n",
    "final_df = final_df[keep_columns]\n",
    "\n",
    "final_df.set_crs(epsg=4326, inplace=True)\n",
    "\n",
    "# Save to file or use further\n",
    "final_df.to_file('rome_grid_2023_with_lulc_proportions_5km.gpkg', driver='GPKG')\n",
    "\n",
    "final_df.shape"
   ]
  }
 ],
 "metadata": {
  "kernelspec": {
   "display_name": ".venv",
   "language": "python",
   "name": "python3"
  },
  "language_info": {
   "codemirror_mode": {
    "name": "ipython",
    "version": 3
   },
   "file_extension": ".py",
   "mimetype": "text/x-python",
   "name": "python",
   "nbconvert_exporter": "python",
   "pygments_lexer": "ipython3",
   "version": "3.10.12"
  }
 },
 "nbformat": 4,
 "nbformat_minor": 2
}
