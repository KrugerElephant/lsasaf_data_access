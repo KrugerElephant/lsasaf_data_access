{
 "cells": [
  {
   "cell_type": "code",
   "execution_count": 5,
   "metadata": {},
   "outputs": [],
   "source": [
    "import common_utils\n",
    "import pandas as pd\n",
    "import geopandas as gpd\n",
    "from shapely.geometry import Point"
   ]
  },
  {
   "cell_type": "code",
   "execution_count": 10,
   "metadata": {},
   "outputs": [],
   "source": [
    "# LU raster files\n",
    "raster_file = '../lu_rasters/ESRI_LULC_2023_Rome.tif'\n",
    "\n",
    "# Rome centroids\n",
    "rome_points = \"../lst_centroids/msg_lst_rome_5k_centroids.gpkg\"\n",
    "\n",
    "# Buffer radius in degrees (approximately 5000 meters)\n",
    "buffer_radius = 0.05"
   ]
  },
  {
   "cell_type": "code",
   "execution_count": 11,
   "metadata": {},
   "outputs": [],
   "source": [
    "# Define LULC remap dictionary\n",
    "lulc_remap = {\n",
    "    'lulc_0': 'no_data',\n",
    "    'lulc_1': 'water',\n",
    "    'lulc_2': 'trees',\n",
    "    'lulc_4': 'flooded_veg',\n",
    "    'lulc_5': 'crop',\n",
    "    'lulc_7': 'built_area',\n",
    "    'lulc_8': 'bare_ground',\n",
    "    'lulc_9': 'snow_or_ice',\n",
    "    'lulc_10': 'clouds',\n",
    "    'lulc_11': 'range_land'\n",
    "}\n"
   ]
  },
  {
   "cell_type": "code",
   "execution_count": null,
   "metadata": {},
   "outputs": [],
   "source": [
    "gdf = gpd.read_file(rome_points)  # Read the .gpkg file\n",
    "\n",
    "gdf.shape"
   ]
  },
  {
   "cell_type": "code",
   "execution_count": 13,
   "metadata": {},
   "outputs": [],
   "source": [
    "gdf['lulc_proportions'] = common_utils.calculate_lulc_proportions(raster_file, gdf['geometry'], buffer_radius, lulc_remap)"
   ]
  },
  {
   "cell_type": "code",
   "execution_count": 14,
   "metadata": {},
   "outputs": [],
   "source": [
    "# Expand LULC proportions into separate columns\n",
    "lulc_df = pd.DataFrame(gdf['lulc_proportions'].tolist())\n",
    "final_df = gpd.GeoDataFrame(pd.concat([gdf.drop(columns=['lulc_proportions']), lulc_df], axis=1),\n",
    "                            geometry='geometry', crs=\"EPSG:4326\")"
   ]
  },
  {
   "cell_type": "code",
   "execution_count": 15,
   "metadata": {},
   "outputs": [
    {
     "data": {
      "text/plain": [
       "(80, 11)"
      ]
     },
     "execution_count": 15,
     "metadata": {},
     "output_type": "execute_result"
    }
   ],
   "source": [
    "final_df.shape"
   ]
  },
  {
   "cell_type": "code",
   "execution_count": 16,
   "metadata": {},
   "outputs": [
    {
     "name": "stdout",
     "output_type": "stream",
     "text": [
      "         no_data      water      trees   flooded_veg       crop  built_area  \\\n",
      "count  80.000000  80.000000  80.000000  8.000000e+01  80.000000   80.000000   \n",
      "mean    0.197339   0.030297   0.085282  8.086019e-07   0.279647    0.341370   \n",
      "std     0.026633   0.100295   0.095198  2.384011e-06   0.175721    0.167830   \n",
      "min     0.125772   0.000000   0.000248  0.000000e+00   0.005039    0.050070   \n",
      "25%     0.177716   0.000288   0.020590  0.000000e+00   0.130125    0.208337   \n",
      "50%     0.216991   0.001370   0.058859  0.000000e+00   0.278443    0.332168   \n",
      "75%     0.217014   0.013635   0.104280  0.000000e+00   0.404295    0.462748   \n",
      "max     0.218392   0.708143   0.493681  9.392620e-06   0.613449    0.708325   \n",
      "\n",
      "       bare_ground  snow_or_ice  clouds  range_land  \n",
      "count    80.000000         80.0    80.0   80.000000  \n",
      "mean      0.000687          0.0     0.0    0.065378  \n",
      "std       0.001936          0.0     0.0    0.032442  \n",
      "min       0.000000          0.0     0.0    0.010159  \n",
      "25%       0.000000          0.0     0.0    0.040773  \n",
      "50%       0.000007          0.0     0.0    0.065089  \n",
      "75%       0.000363          0.0     0.0    0.085167  \n",
      "max       0.011244          0.0     0.0    0.141281  \n"
     ]
    }
   ],
   "source": [
    "# Summary statistics for all columns in the final GeoDataFrame\n",
    "summary_stats = final_df.describe()\n",
    "\n",
    "# Print the summary statistics\n",
    "print(summary_stats)"
   ]
  },
  {
   "cell_type": "code",
   "execution_count": 18,
   "metadata": {},
   "outputs": [
    {
     "data": {
      "text/plain": [
       "(80, 11)"
      ]
     },
     "execution_count": 18,
     "metadata": {},
     "output_type": "execute_result"
    }
   ],
   "source": [
    "keep_columns = ['geometry', 'no_data', 'water', 'trees', 'flooded_veg', 'crop', 'built_area', 'bare_ground', 'snow_or_ice', 'clouds', 'range_land']\n",
    "final_df = final_df[keep_columns]\n",
    "\n",
    "final_df.set_crs(epsg=4326, inplace=True)\n",
    "\n",
    "output_filepath = '../lu_profiles/rome_2023_landuse_profile_5000m.gpkg'\n",
    "\n",
    "# Save to file or use further\n",
    "final_df.to_file(output_filepath, driver='GPKG')\n",
    "\n",
    "final_df.shape"
   ]
  },
  {
   "cell_type": "code",
   "execution_count": 19,
   "metadata": {},
   "outputs": [
    {
     "data": {
      "text/html": [
       "<div>\n",
       "<style scoped>\n",
       "    .dataframe tbody tr th:only-of-type {\n",
       "        vertical-align: middle;\n",
       "    }\n",
       "\n",
       "    .dataframe tbody tr th {\n",
       "        vertical-align: top;\n",
       "    }\n",
       "\n",
       "    .dataframe thead th {\n",
       "        text-align: right;\n",
       "    }\n",
       "</style>\n",
       "<table border=\"1\" class=\"dataframe\">\n",
       "  <thead>\n",
       "    <tr style=\"text-align: right;\">\n",
       "      <th></th>\n",
       "      <th>geometry</th>\n",
       "      <th>no_data</th>\n",
       "      <th>water</th>\n",
       "      <th>trees</th>\n",
       "      <th>flooded_veg</th>\n",
       "      <th>crop</th>\n",
       "      <th>built_area</th>\n",
       "      <th>bare_ground</th>\n",
       "      <th>snow_or_ice</th>\n",
       "      <th>clouds</th>\n",
       "      <th>range_land</th>\n",
       "    </tr>\n",
       "  </thead>\n",
       "  <tbody>\n",
       "    <tr>\n",
       "      <th>0</th>\n",
       "      <td>POINT (12.25 42.05)</td>\n",
       "      <td>0.132022</td>\n",
       "      <td>0.022978</td>\n",
       "      <td>0.044921</td>\n",
       "      <td>0.0</td>\n",
       "      <td>0.595550</td>\n",
       "      <td>0.189452</td>\n",
       "      <td>0.000000</td>\n",
       "      <td>0.0</td>\n",
       "      <td>0.0</td>\n",
       "      <td>0.015077</td>\n",
       "    </tr>\n",
       "    <tr>\n",
       "      <th>1</th>\n",
       "      <td>POINT (12.3 42.05)</td>\n",
       "      <td>0.177677</td>\n",
       "      <td>0.000143</td>\n",
       "      <td>0.036355</td>\n",
       "      <td>0.0</td>\n",
       "      <td>0.585212</td>\n",
       "      <td>0.182375</td>\n",
       "      <td>0.000000</td>\n",
       "      <td>0.0</td>\n",
       "      <td>0.0</td>\n",
       "      <td>0.018237</td>\n",
       "    </tr>\n",
       "    <tr>\n",
       "      <th>2</th>\n",
       "      <td>POINT (12.35 42.05)</td>\n",
       "      <td>0.178449</td>\n",
       "      <td>0.000134</td>\n",
       "      <td>0.055930</td>\n",
       "      <td>0.0</td>\n",
       "      <td>0.393311</td>\n",
       "      <td>0.332778</td>\n",
       "      <td>0.000000</td>\n",
       "      <td>0.0</td>\n",
       "      <td>0.0</td>\n",
       "      <td>0.039399</td>\n",
       "    </tr>\n",
       "    <tr>\n",
       "      <th>3</th>\n",
       "      <td>POINT (12.4 42.05)</td>\n",
       "      <td>0.177711</td>\n",
       "      <td>0.000164</td>\n",
       "      <td>0.100341</td>\n",
       "      <td>0.0</td>\n",
       "      <td>0.367734</td>\n",
       "      <td>0.314093</td>\n",
       "      <td>0.000000</td>\n",
       "      <td>0.0</td>\n",
       "      <td>0.0</td>\n",
       "      <td>0.039957</td>\n",
       "    </tr>\n",
       "    <tr>\n",
       "      <th>4</th>\n",
       "      <td>POINT (12.45 42.05)</td>\n",
       "      <td>0.177717</td>\n",
       "      <td>0.000030</td>\n",
       "      <td>0.122215</td>\n",
       "      <td>0.0</td>\n",
       "      <td>0.443907</td>\n",
       "      <td>0.223900</td>\n",
       "      <td>0.000002</td>\n",
       "      <td>0.0</td>\n",
       "      <td>0.0</td>\n",
       "      <td>0.032229</td>\n",
       "    </tr>\n",
       "  </tbody>\n",
       "</table>\n",
       "</div>"
      ],
      "text/plain": [
       "              geometry   no_data     water     trees  flooded_veg      crop  \\\n",
       "0  POINT (12.25 42.05)  0.132022  0.022978  0.044921          0.0  0.595550   \n",
       "1   POINT (12.3 42.05)  0.177677  0.000143  0.036355          0.0  0.585212   \n",
       "2  POINT (12.35 42.05)  0.178449  0.000134  0.055930          0.0  0.393311   \n",
       "3   POINT (12.4 42.05)  0.177711  0.000164  0.100341          0.0  0.367734   \n",
       "4  POINT (12.45 42.05)  0.177717  0.000030  0.122215          0.0  0.443907   \n",
       "\n",
       "   built_area  bare_ground  snow_or_ice  clouds  range_land  \n",
       "0    0.189452     0.000000          0.0     0.0    0.015077  \n",
       "1    0.182375     0.000000          0.0     0.0    0.018237  \n",
       "2    0.332778     0.000000          0.0     0.0    0.039399  \n",
       "3    0.314093     0.000000          0.0     0.0    0.039957  \n",
       "4    0.223900     0.000002          0.0     0.0    0.032229  "
      ]
     },
     "execution_count": 19,
     "metadata": {},
     "output_type": "execute_result"
    }
   ],
   "source": [
    "final_df.head()"
   ]
  }
 ],
 "metadata": {
  "kernelspec": {
   "display_name": ".venv",
   "language": "python",
   "name": "python3"
  },
  "language_info": {
   "codemirror_mode": {
    "name": "ipython",
    "version": 3
   },
   "file_extension": ".py",
   "mimetype": "text/x-python",
   "name": "python",
   "nbconvert_exporter": "python",
   "pygments_lexer": "ipython3",
   "version": "3.10.12"
  }
 },
 "nbformat": 4,
 "nbformat_minor": 2
}
