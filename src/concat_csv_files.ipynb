{
 "cells": [
  {
   "cell_type": "code",
   "execution_count": null,
   "metadata": {},
   "outputs": [],
   "source": [
    "import pandas as pd\n",
    "import glob\n",
    "\n",
    "# Specify the path to the folder containing the CSV files\n",
    "folder_path = '../csv_data_files'\n",
    "\n",
    "# Use glob to find all CSV files in the folder\n",
    "csv_files = glob.glob(f\"{folder_path}/*.csv\")\n",
    "\n",
    "# Load and concatenate all CSV files\n",
    "df = pd.concat([pd.read_csv(file) for file in csv_files], ignore_index=True)\n",
    "\n",
    "# Display the resulting DataFrame\n",
    "print(df.head())\n",
    "\n",
    "# Optionally, save the concatenated DataFrame to a new CSV\n",
    "df.to_csv('../lu_fused_data_for_glm/lst_data.csv', index=False)\n"
   ]
  },
  {
   "cell_type": "code",
   "execution_count": null,
   "metadata": {},
   "outputs": [],
   "source": [
    "\n",
    "df.shape\n"
   ]
  },
  {
   "cell_type": "code",
   "execution_count": null,
   "metadata": {},
   "outputs": [],
   "source": [
    "import matplotlib.pyplot as plt\n",
    "\n",
    "gdf = df\n",
    "# Ensure the 'time' column is in datetime format\n",
    "gdf['time'] = pd.to_datetime(gdf['time'])\n",
    "\n",
    "# Sort the GeoDataFrame by time for proper plotting\n",
    "gdf = gdf.sort_values('time')\n",
    "\n",
    "# Plot temperature over time\n",
    "plt.figure(figsize=(10, 6))\n",
    "plt.plot(gdf['time'], gdf['temperature'], label='Temperature', color='blue')\n",
    "\n",
    "# Customize the plot\n",
    "plt.title('Temperature Time Series')\n",
    "plt.xlabel('Time')\n",
    "plt.ylabel('Temperature')\n",
    "plt.grid(True)\n",
    "plt.legend()\n",
    "plt.tight_layout()\n",
    "\n",
    "# Display the plot\n",
    "plt.show()"
   ]
  }
 ],
 "metadata": {
  "kernelspec": {
   "display_name": ".venv",
   "language": "python",
   "name": "python3"
  },
  "language_info": {
   "codemirror_mode": {
    "name": "ipython",
    "version": 3
   },
   "file_extension": ".py",
   "mimetype": "text/x-python",
   "name": "python",
   "nbconvert_exporter": "python",
   "pygments_lexer": "ipython3",
   "version": "3.10.12"
  }
 },
 "nbformat": 4,
 "nbformat_minor": 2
}
