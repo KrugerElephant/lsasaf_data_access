{
 "cells": [
  {
   "cell_type": "code",
   "execution_count": null,
   "metadata": {},
   "outputs": [],
   "source": [
    "import common_utils\n",
    "import pandas as pd\n",
    "import geopandas as gpd\n",
    "from shapely.geometry import Point\n",
    "import common_utils\n",
    "\n",
    "# Approximately 35 meters\n",
    "radius_in_degrees = 0.00035\n",
    "\n",
    "# Rome LU raster file\n",
    "lulc_raster_file = \"../lu_rasters/ESRI_LULC_2023_Rome.tif\"\n",
    "\n",
    "# Ecostress LST points file\n",
    "eco_stress_points_file = \"../lst_centroids/ecostress_lst_rome_centroids.gpkg\"\n",
    "gdf = gpd.read_file(eco_stress_points_file)  # Read the .gpkg file\n",
    "\n",
    "gdf.shape"
   ]
  },
  {
   "cell_type": "code",
   "execution_count": null,
   "metadata": {},
   "outputs": [],
   "source": [
    "\n",
    "# Define LULC remap dictionary\n",
    "lulc_remap = {\n",
    "    'lulc_0': 'no_data',\n",
    "    'lulc_1': 'water',\n",
    "    'lulc_2': 'trees',\n",
    "    'lulc_4': 'flooded_veg',\n",
    "    'lulc_5': 'crop',\n",
    "    'lulc_7': 'built_area',\n",
    "    'lulc_8': 'bare_ground',\n",
    "    'lulc_9': 'snow_or_ice',\n",
    "    'lulc_10': 'clouds',\n",
    "    'lulc_11': 'range_land'\n",
    "}\n",
    "\n",
    "gdf['lulc_proportions'] = common_utils.calculate_lulc_proportions(lulc_raster_file, gdf['geometry'], radius_in_degrees, lulc_remap)\n"
   ]
  },
  {
   "cell_type": "code",
   "execution_count": null,
   "metadata": {},
   "outputs": [],
   "source": [
    "# Expand LULC proportions into separate columns\n",
    "lu_profile_gdf = pd.DataFrame(gdf['lulc_proportions'].tolist())\n",
    "final_df = gpd.GeoDataFrame(pd.concat([gdf.drop(columns=['lulc_proportions']), lu_profile_gdf], axis=1),\n",
    "                            geometry='geometry', crs=\"EPSG:4326\")"
   ]
  },
  {
   "cell_type": "code",
   "execution_count": null,
   "metadata": {},
   "outputs": [],
   "source": [
    "# Summary statistics for all columns in the final GeoDataFrame\n",
    "summary_stats = final_df.describe()\n",
    "\n",
    "# Print the summary statistics\n",
    "print(summary_stats)"
   ]
  },
  {
   "cell_type": "code",
   "execution_count": null,
   "metadata": {},
   "outputs": [],
   "source": [
    "output_filepath = \"../lu_profiles/rome_2023_landuse_profile_35m.pkl\"\n",
    "\n",
    "final_df.set_crs(epsg=4326, inplace=True)\n",
    "\n",
    "# Save to file or use further\n",
    "final_df.to_file(output_filepath, driver='GPKG')"
   ]
  }
 ],
 "metadata": {
  "kernelspec": {
   "display_name": ".venv",
   "language": "python",
   "name": "python3"
  },
  "language_info": {
   "codemirror_mode": {
    "name": "ipython",
    "version": 3
   },
   "file_extension": ".py",
   "mimetype": "text/x-python",
   "name": "python",
   "nbconvert_exporter": "python",
   "pygments_lexer": "ipython3",
   "version": "3.10.12"
  }
 },
 "nbformat": 4,
 "nbformat_minor": 2
}
