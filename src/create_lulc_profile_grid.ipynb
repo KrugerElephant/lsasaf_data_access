{
 "cells": [
  {
   "cell_type": "code",
   "execution_count": 1,
   "metadata": {},
   "outputs": [],
   "source": [
    "import geopandas as gpd\n",
    "import rasterio\n",
    "from shapely.geometry import Polygon, Point\n",
    "from rasterio.mask import mask\n",
    "import numpy as np\n",
    "import pandas as pd"
   ]
  },
  {
   "cell_type": "code",
   "execution_count": 2,
   "metadata": {},
   "outputs": [],
   "source": [
    "# Function to create grid\n",
    "def create_grid(bbox, size):\n",
    "    minx, miny, maxx, maxy = bbox\n",
    "    x_coords = np.arange(minx, maxx, size)\n",
    "    y_coords = np.arange(miny, maxy, size)\n",
    "    polygons = []\n",
    "    for x in x_coords:\n",
    "        for y in y_coords:\n",
    "            polygons.append(Polygon([\n",
    "                (x, y), (x + size, y),\n",
    "                (x + size, y + size), (x, y + size)\n",
    "            ]))\n",
    "    return gpd.GeoDataFrame({'geometry': polygons}, crs=\"EPSG:4326\")"
   ]
  },
  {
   "cell_type": "code",
   "execution_count": null,
   "metadata": {},
   "outputs": [],
   "source": [
    "import rasterio\n",
    "import numpy as np\n",
    "\n",
    "# Open the raster file\n",
    "raster_path = 'ESRI_LULC_2023_Rome.tif'\n",
    "\n",
    "with rasterio.open(raster_path) as src:\n",
    "    # Read the raster data as a NumPy array\n",
    "    raster_data = src.read(1)  # Read the first (and typically only) band\n",
    "\n",
    "    # Get the unique values\n",
    "    unique_values = np.unique(raster_data)\n",
    "\n",
    "# Print the unique values\n",
    "print(\"Unique values in the raster:\")\n",
    "print(unique_values)\n"
   ]
  },
  {
   "cell_type": "code",
   "execution_count": 4,
   "metadata": {},
   "outputs": [],
   "source": [
    "# Calculate LULC proportions\n",
    "def calculate_lulc_proportions(raster_path, points, radius_in_degrees):\n",
    "    with rasterio.open(raster_path) as src:\n",
    "        results = []\n",
    "\n",
    "        for point in points:\n",
    "            buffer = point.buffer(radius_in_degrees)  # Convert meters to degrees\n",
    "            buffered_geometry = [buffer]\n",
    "            try:\n",
    "                # Mask the raster to the buffer area\n",
    "                out_image, out_transform = mask(src, buffered_geometry, crop=True)\n",
    "                lulc_vals = out_image.flatten()\n",
    "                # lulc_vals = lulc_vals[lulc_vals != 0]  # Remove nodata values\n",
    "\n",
    "                # Total number of valid pixels in the buffer\n",
    "                total_pixels = len(lulc_vals)\n",
    "\n",
    "                # Initialize proportions dictionary\n",
    "                proportions = {key: 0 for key in lulc_remap.values()}\n",
    "\n",
    "                # Calculate proportion for each LULC code\n",
    "                for key, name in lulc_remap.items():\n",
    "                    code = int(key.split('_')[1])  # Extract numeric LULC code\n",
    "                    code_count = np.sum(lulc_vals == code)  # Count pixels with this code\n",
    "                    proportions[name] = code_count/total_pixels if total_pixels > 0 else 0\n",
    "\n",
    "                results.append(proportions)\n",
    "            except Exception as e:\n",
    "                # Handle cases where the buffer goes out of bounds or errors occur\n",
    "                results.append({key: 0 for key in lulc_remap.values()})\n",
    "        return results\n"
   ]
  },
  {
   "cell_type": "code",
   "execution_count": null,
   "metadata": {},
   "outputs": [],
   "source": [
    "# Bounding box of Rome\n",
    "bounding_box = [12.24936, 41.71981, 12.63842, 42.08972]  # [min_lon, min_lat, max_lon, max_lat]\n",
    "\n",
    "# Grid parameters\n",
    "grid_size = 0.0008  # degrees\n",
    "\n",
    "# 35 meters\n",
    "buffer_radius = 0.0004 # degrees\n",
    "\n",
    "# Define LULC remap dictionary\n",
    "lulc_remap = {\n",
    "    'lulc_0': 'no_data',\n",
    "    'lulc_1': 'water',\n",
    "    'lulc_2': 'trees',\n",
    "    'lulc_4': 'flooded_veg',\n",
    "    'lulc_5': 'crop',\n",
    "    'lulc_7': 'built_area',\n",
    "    'lulc_8': 'bare_ground',\n",
    "    'lulc_9': 'snow_or_ice',\n",
    "    'lulc_10': 'clouds',\n",
    "    'lulc_11': 'range_land'\n",
    "}\n"
   ]
  },
  {
   "cell_type": "code",
   "execution_count": null,
   "metadata": {},
   "outputs": [],
   "source": [
    "\n",
    "# Create grid and centroids\n",
    "grid = create_grid(bounding_box, grid_size)\n",
    "grid['centroid'] = grid.geometry.centroid\n"
   ]
  },
  {
   "cell_type": "code",
   "execution_count": null,
   "metadata": {},
   "outputs": [],
   "source": [
    "grid.head()"
   ]
  },
  {
   "cell_type": "code",
   "execution_count": 62,
   "metadata": {},
   "outputs": [],
   "source": [
    "\n",
    "# Load LULC raster\n",
    "lulc_raster = 'ESRI_LULC_2023_Rome.tif'\n",
    "grid['lulc_proportions'] = calculate_lulc_proportions(lulc_raster, grid['centroid'], buffer_radius)"
   ]
  },
  {
   "cell_type": "code",
   "execution_count": 63,
   "metadata": {},
   "outputs": [],
   "source": [
    "# Expand LULC proportions into separate columns\n",
    "lulc_df = pd.DataFrame(grid['lulc_proportions'].tolist())\n",
    "final_df = gpd.GeoDataFrame(pd.concat([grid.drop(columns=['lulc_proportions']), lulc_df], axis=1),\n",
    "                            geometry='centroid', crs=\"EPSG:4326\")"
   ]
  },
  {
   "cell_type": "code",
   "execution_count": null,
   "metadata": {},
   "outputs": [],
   "source": [
    "final_df.head()"
   ]
  },
  {
   "cell_type": "code",
   "execution_count": null,
   "metadata": {},
   "outputs": [],
   "source": [
    "final_df.tail()"
   ]
  },
  {
   "cell_type": "code",
   "execution_count": 67,
   "metadata": {},
   "outputs": [],
   "source": [
    "\n",
    "# Optionally, save to a CSV file for further analysis\n",
    "summary_stats.to_csv('summary_stats.csv')\n"
   ]
  },
  {
   "cell_type": "code",
   "execution_count": null,
   "metadata": {},
   "outputs": [],
   "source": [
    "\n",
    "\n",
    "# Assuming `final_df` is your GeoDataFrame containing the LULC proportions\n",
    "\n",
    "# Step 1: Set the centroid of each polygon as the geometry\n",
    "final_df['geometry'] = final_df.centroid\n"
   ]
  },
  {
   "cell_type": "code",
   "execution_count": 73,
   "metadata": {},
   "outputs": [],
   "source": [
    "\n",
    "# Step 2: Drop the original polygon column (geometry)\n",
    "# Convert to a simple DataFrame with centroid geometry as point\n",
    "final_df = final_df.drop(columns=['centroid'])\n"
   ]
  },
  {
   "cell_type": "code",
   "execution_count": null,
   "metadata": {},
   "outputs": [],
   "source": [
    "final_df.head()"
   ]
  },
  {
   "cell_type": "code",
   "execution_count": null,
   "metadata": {},
   "outputs": [],
   "source": [
    "\n",
    "# Step 3: Save the DataFrame as a CSV file\n",
    "final_df.to_csv('lulc_proportions_centroids_40m.csv', index=False)\n",
    "\n",
    "# Print the first few rows to check the output\n",
    "print(final_df.head())\n",
    "\n",
    "# Save to file or use further\n",
    "final_df.to_file('rome_grid_2023_with_lulc_proportions_40m.gpkg', driver='GPKG')\n"
   ]
  }
 ],
 "metadata": {
  "kernelspec": {
   "display_name": ".venv",
   "language": "python",
   "name": "python3"
  },
  "language_info": {
   "codemirror_mode": {
    "name": "ipython",
    "version": 3
   },
   "file_extension": ".py",
   "mimetype": "text/x-python",
   "name": "python",
   "nbconvert_exporter": "python",
   "pygments_lexer": "ipython3",
   "version": "3.10.12"
  }
 },
 "nbformat": 4,
 "nbformat_minor": 2
}
