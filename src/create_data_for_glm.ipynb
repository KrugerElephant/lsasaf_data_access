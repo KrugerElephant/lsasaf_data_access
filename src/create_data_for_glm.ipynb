{
 "cells": [
  {
   "cell_type": "code",
   "execution_count": 3,
   "metadata": {},
   "outputs": [
    {
     "name": "stdout",
     "output_type": "stream",
     "text": [
      "Concatenated GeoPackage saved to ../msg_lu_fused_data_for_glm/concatenated_data.gpkg\n"
     ]
    }
   ],
   "source": [
    "import os\n",
    "import common_utils\n",
    "\n",
    "input_dir = \"../msg_lulc_temperature_datetime_fused\"\n",
    "output_dir = \"../msg_lu_fused_data_for_glm\"\n",
    "\n",
    "common_utils.concatenate_gpkg_files(input_dir, output_dir)"
   ]
  }
 ],
 "metadata": {
  "kernelspec": {
   "display_name": ".venv",
   "language": "python",
   "name": "python3"
  },
  "language_info": {
   "codemirror_mode": {
    "name": "ipython",
    "version": 3
   },
   "file_extension": ".py",
   "mimetype": "text/x-python",
   "name": "python",
   "nbconvert_exporter": "python",
   "pygments_lexer": "ipython3",
   "version": "3.10.12"
  }
 },
 "nbformat": 4,
 "nbformat_minor": 2
}
