{
 "cells": [
  {
   "cell_type": "code",
   "execution_count": 15,
   "metadata": {},
   "outputs": [],
   "source": [
    "import rasterio\n",
    "from rasterio.mask import mask\n",
    "from shapely.geometry import Point\n",
    "\n",
    "import geopandas as gpd\n",
    "import pandas as pd\n",
    "from shapely.geometry import Point\n",
    "import numpy as np\n",
    "\n",
    "# Step 2: Function to calculate land use proportions\n",
    "def calculate_lulc_proportions(lulc_raster, point, buffer_radius):\n",
    "    \"\"\"\n",
    "    Calculate proportions of LULC categories within a circular buffer around a point.\n",
    "    \"\"\"\n",
    "\n",
    "    # point_projected = point.to_crs(epsg=32633)  # UTM zone 33N\n",
    "    # buffer = point_projected.buffer(buffer_radius)\n",
    "    # buffer_original = buffer.to_crs(epsg=4326)\n",
    "\n",
    "    buffer = point.buffer(buffer_radius, resolution=50)  # Buffer with high resolution\n",
    "\n",
    "    # Create a circular buffer around the point (convert to GeoJSON format)\n",
    "    geojson_buffer = [buffer.__geo_interface__]  # Convert to GeoJSON format for rasterio.mask\n",
    "\n",
    "    # Mask the LULC raster using the buffer\n",
    "    try:\n",
    "        out_image, out_transform = mask(lulc_raster, geojson_buffer, crop=True)\n",
    "        data = out_image[0]  # Extract the first band\n",
    "        data = data[data > 0]  # Remove invalid or no-data values (assumed to be <= 0)\n",
    "\n",
    "        # Calculate proportions of each LULC category\n",
    "        unique, counts = np.unique(data, return_counts=True)\n",
    "        proportions = {f\"lulc_{int(cat)}\": round(count/data.size, 3) for cat, count in zip(unique, counts)}\n",
    "        return proportions\n",
    "    except Exception as e:\n",
    "        print(f\"Error processing buffer at point {point}: {e}\")\n",
    "        return {}\n"
   ]
  },
  {
   "cell_type": "code",
   "execution_count": 19,
   "metadata": {},
   "outputs": [],
   "source": [
    "import rasterio\n",
    "import geopandas as gpd\n",
    "from shapely.geometry import Point\n",
    "import numpy as np\n",
    "\n",
    "# Function to extract lat, lon for each pixel\n",
    "def extract_lat_lon_to_geopandas(tif_file):\n",
    "    # Open the GeoTIFF file\n",
    "    with rasterio.open(tif_file) as src:\n",
    "        # Read the dataset metadata\n",
    "        transform = src.transform\n",
    "        crs = src.crs\n",
    "        width = src.width\n",
    "        height = src.height\n",
    "\n",
    "        # Get pixel coordinates\n",
    "        cols, rows = np.meshgrid(np.arange(width), np.arange(height))\n",
    "\n",
    "        # Convert pixel coordinates to geographic coordinates\n",
    "        xs, ys = rasterio.transform.xy(transform, rows, cols)\n",
    "        lons = np.array(xs).flatten()\n",
    "        lats = np.array(ys).flatten()\n",
    "\n",
    "        # Read the LST values\n",
    "        # lst_data = src.read(1)  # Assuming LST is in the first band\n",
    "        # lst_values = lst_data.flatten()\n",
    "\n",
    "        # Create GeoPandas DataFrame\n",
    "        data = {\n",
    "            \"latitude\": lats,\n",
    "            \"longitude\": lons,\n",
    "            # \"temperature\": lst_values,\n",
    "            \"geometry\": [Point(lon, lat) for lon, lat in zip(lons, lats)],\n",
    "        }\n",
    "        gdf = gpd.GeoDataFrame(data, crs=crs)\n",
    "\n",
    "    return gdf\n"
   ]
  },
  {
   "cell_type": "code",
   "execution_count": null,
   "metadata": {},
   "outputs": [],
   "source": [
    "# Path to the ECOSTRESS LST GeoTIFF file\n",
    "tif_file = '../ecostress_LST/ECO2LSTE.001_SDS_LST_doy2024181064258_aid0001.tif'\n",
    "\n",
    "# Create the GeoDataFrame\n",
    "gdf = extract_lat_lon_to_geopandas(tif_file)\n",
    "\n",
    "# Display the GeoDataFrame\n",
    "print(gdf.head())\n",
    "\n",
    "# Save to a GeoJSON file (optional)\n",
    "# gdf.to_file(\"/path/to/save/ecostress_lst_points.geojson\", driver=\"GeoJSON\")\n",
    "# print(\"GeoDataFrame saved to GeoJSON.\")\n"
   ]
  },
  {
   "cell_type": "code",
   "execution_count": null,
   "metadata": {},
   "outputs": [],
   "source": [
    "\n",
    "\n",
    "lst_data_file = '../downloads/LST_2022-8-10_2022-8-10.csv'\n",
    "\n",
    "# Load the CSV file into a pandas DataFrame\n",
    "df = pd.read_csv(lst_data_file)\n",
    "\n",
    "# Convert the 'time' column to datetime format\n",
    "df['time'] = pd.to_datetime(df['time'])\n",
    "\n",
    "# Filter rows where 'hour' equals 0\n",
    "df = df[df['hour'] == 0]\n",
    "\n",
    "# Step 5: Convert to GeoPandas GeoDataFrame\n",
    "geometry = [Point(lon, lat) for lon, lat in zip(df['lon'], df['lat'])]  # Create Point geometries\n",
    "gdf = gpd.GeoDataFrame(df, geometry=geometry, crs=\"EPSG:4326\")  # Set CRS to WGS 84 (EPSG:4326)\n"
   ]
  },
  {
   "cell_type": "code",
   "execution_count": null,
   "metadata": {},
   "outputs": [],
   "source": [
    "\n",
    "# Step 1: Load the LULC raster and the temperature GeoDataFrame\n",
    "lulc_file = \"ESRI_LULC_2023_Rome.tif\"  # Path to the ESRI LULC TIFF file\n",
    "\n",
    "# Buffer radius: approximately 3000 meters\n",
    "# buffer_radius_3k = 0.03\n",
    "\n",
    "# Buffer radius: approximately 40 meters\n",
    "buffer_radius_35m = 0.00040\n",
    "\n",
    "# Step 3: Process each point in the GeoDataFrame\n",
    "with rasterio.open(lulc_file) as lulc_raster:\n",
    "    all_proportions = []  # List to store proportions for each point\n",
    "    for idx, row in gdf.iterrows():\n",
    "        point = row.geometry  # Get the point geometry\n",
    "        print(f'Point: {idx}: {point}')\n",
    "        proportions = calculate_lulc_proportions(lulc_raster, point, buffer_radius_35m)\n",
    "        all_proportions.append(proportions)\n",
    "\n",
    "# Step 4: Merge LULC proportions with the GeoDataFrame\n",
    "proportions_df = pd.DataFrame(all_proportions).fillna(0)  # Replace NaNs with 0 for missing LULC categories\n",
    "gdf = pd.concat([gdf, proportions_df], axis=1)"
   ]
  },
  {
   "cell_type": "code",
   "execution_count": null,
   "metadata": {},
   "outputs": [],
   "source": [
    "gdf.head()"
   ]
  },
  {
   "cell_type": "code",
   "execution_count": null,
   "metadata": {},
   "outputs": [],
   "source": [
    "gdf.tail()"
   ]
  },
  {
   "cell_type": "code",
   "execution_count": null,
   "metadata": {},
   "outputs": [],
   "source": [
    "# Assuming 'gdf' is your GeoDataFrame\n",
    "if \"lulc_2\" in gdf.columns:\n",
    "    print(\"Summary statistics for column 'lulc_2':\")\n",
    "    print(gdf[\"lulc_2\"].describe())\n",
    "else:\n",
    "    print(\"'lulc_2' column not found in the GeoDataFrame.\")"
   ]
  },
  {
   "cell_type": "code",
   "execution_count": null,
   "metadata": {},
   "outputs": [],
   "source": [
    "gdf.shape"
   ]
  },
  {
   "cell_type": "code",
   "execution_count": null,
   "metadata": {},
   "outputs": [],
   "source": [
    "# Count the number of rows where 'lulc_2' > 0\n",
    "if \"lulc_2\" in gdf.columns:\n",
    "    count = (gdf[\"lulc_2\"] > 0).sum()\n",
    "    print(f\"Number of rows with 'lulc_2' > = {count}\")\n",
    "else:\n",
    "    print(\"'lulc_2' column not found in the GeoDataFrame.\")\n"
   ]
  },
  {
   "cell_type": "code",
   "execution_count": null,
   "metadata": {},
   "outputs": [],
   "source": [
    "import matplotlib.pyplot as plt\n",
    "\n",
    "# Check if 'lulc_2' column exists in the GeoDataFrame\n",
    "if \"lulc_2\" in gdf.columns:\n",
    "    # Plot histogram\n",
    "    plt.figure(figsize=(10, 6))\n",
    "    gdf[\"lulc_2\"].hist(bins=30, edgecolor='black', color='skyblue')\n",
    "    plt.title(\"Histogram of 'lulc_2'\", fontsize=16)\n",
    "    plt.xlabel(\"lulc_2\", fontsize=14)\n",
    "    plt.ylabel(\"Frequency\", fontsize=14)\n",
    "    plt.grid(axis='y', linestyle='--', alpha=0.7)\n",
    "    plt.show()\n",
    "else:\n",
    "    print(\"'lulc_2' column not found in the GeoDataFrame.\")\n"
   ]
  },
  {
   "cell_type": "code",
   "execution_count": 3,
   "metadata": {},
   "outputs": [],
   "source": [
    "import rasterio\n",
    "from rasterio.windows import from_bounds\n",
    "import numpy as np\n",
    "from scipy.ndimage import generic_filter\n",
    "from rasterio.features import geometry_mask\n",
    "\n",
    "# Define LULC remap dictionary\n",
    "lulc_remap = {\n",
    "    'lulc_0': 'no_data',\n",
    "    'lulc_1': 'water',\n",
    "    'lulc_2': 'trees',\n",
    "    'lulc_4': 'flooded_veg',\n",
    "    'lulc_5': 'crop',\n",
    "    'lulc_7': 'built_area',\n",
    "    'lulc_8': 'bare_ground',\n",
    "    'lulc_9': 'snow_or_ice',\n",
    "    'lulc_10': 'clouds',\n",
    "    'lulc_11': 'range_land'\n",
    "}\n",
    "\n",
    "# Input file paths\n",
    "lulc_path = \"ESRI_LULC_2023_Rome.tif\"\n",
    "lst_path = \"../ecostress_LST/ECO2LSTE.001_SDS_LST_doy2024181064258_aid0001.tif\"\n",
    "output_path = \"ESRI_LULC_Proportions_Rome_Circle_40m.tif\"\n"
   ]
  },
  {
   "cell_type": "code",
   "execution_count": 2,
   "metadata": {},
   "outputs": [
    {
     "name": "stderr",
     "output_type": "stream",
     "text": [
      "/home/emaximus/workspace/lsasaf_data_access/.venv/lib/python3.10/site-packages/rasterio/windows.py:314: RasterioDeprecationWarning: The height, width, and precision parameters are unused, deprecated, and will be removed in 2.0.0.\n",
      "  warnings.warn(\n"
     ]
    },
    {
     "name": "stdout",
     "output_type": "stream",
     "text": [
      "Proportional LULC raster saved to: LULC_Proportions_Rome_Circle_40m.tif\n"
     ]
    }
   ],
   "source": [
    "# Define circle radius in meters\n",
    "circle_radius = 0.00040\n",
    "\n",
    "# Read LULC raster\n",
    "with rasterio.open(lulc_path) as lulc_raster:\n",
    "    lulc_data = lulc_raster.read(1)\n",
    "    lulc_transform = lulc_raster.transform\n",
    "    lulc_crs = lulc_raster.crs\n",
    "    lulc_resolution = lulc_transform[0]\n",
    "\n",
    "# Read LST raster\n",
    "with rasterio.open(lst_path) as lst_raster:\n",
    "    lst_data = lst_raster.read(1)\n",
    "    lst_transform = lst_raster.transform\n",
    "    lst_crs = lst_raster.crs\n",
    "    lst_resolution = lst_transform[0]\n",
    "    lst_profile = lst_raster.profile\n",
    "\n",
    "# Ensure both rasters share the same CRS\n",
    "if lulc_crs != lst_crs:\n",
    "    raise ValueError(\"LULC and LST rasters must have the same CRS.\")\n",
    "\n",
    "# Calculate kernel size for 40-meter radius in LULC resolution\n",
    "kernel_size = int(2 * circle_radius / lulc_resolution) + 1\n",
    "half_kernel = kernel_size // 2\n",
    "\n",
    "# Create a circular kernel\n",
    "y, x = np.ogrid[-half_kernel: half_kernel + 1, -half_kernel: half_kernel + 1]\n",
    "circle_kernel = (x**2 + y**2) <= (circle_radius / lulc_resolution)**2\n",
    "\n",
    "# Define a function to calculate proportions within the kernel\n",
    "def calculate_proportions(lulc_window, unique_classes, circle_mask):\n",
    "    proportions = np.zeros(len(unique_classes), dtype=np.float32)\n",
    "    if lulc_window.shape == circle_mask.shape:\n",
    "        for idx, lulc_class in enumerate(unique_classes):\n",
    "            proportions[idx] = np.sum((lulc_window == lulc_class) & circle_mask) / np.sum(circle_mask)\n",
    "    return proportions\n",
    "\n",
    "# Initialize output array\n",
    "unique_classes = np.unique(lulc_data)\n",
    "proportions_stack = np.zeros((len(unique_classes), *lst_data.shape), dtype=np.float32)\n",
    "\n",
    "# Loop through each LST pixel and calculate proportions\n",
    "for row in range(lst_data.shape[0]):\n",
    "    for col in range(lst_data.shape[1]):\n",
    "        # Convert LST pixel center to geographic coordinates\n",
    "        x, y = rasterio.transform.xy(lst_transform, row, col)\n",
    "        # Get bounds for the 40-meter radius in LULC raster\n",
    "        bounds = [\n",
    "            x - circle_radius,\n",
    "            y - circle_radius,\n",
    "            x + circle_radius,\n",
    "            y + circle_radius\n",
    "        ]\n",
    "        window = from_bounds(*bounds, transform=lulc_transform, height=kernel_size, width=kernel_size)\n",
    "        lulc_window = lulc_data[\n",
    "            int(window.row_off): int(window.row_off + window.height),\n",
    "            int(window.col_off): int(window.col_off + window.width)\n",
    "        ]\n",
    "        if lulc_window.size > 0:\n",
    "            # Calculate proportions for the pixel\n",
    "            proportions_stack[:, row, col] = calculate_proportions(lulc_window, unique_classes, circle_kernel)\n",
    "\n",
    "# Rename bands based on the LULC remap dictionary\n",
    "band_names = [lulc_remap.get(f'lulc_{int(class_value)}', f'class_{int(class_value)}') for class_value in unique_classes]\n",
    "\n",
    "# Update the profile for the output raster\n",
    "lst_profile.update(count=proportions_stack.shape[0], dtype=rasterio.float32)\n"
   ]
  },
  {
   "cell_type": "code",
   "execution_count": 4,
   "metadata": {},
   "outputs": [
    {
     "name": "stdout",
     "output_type": "stream",
     "text": [
      "Proportional LULC raster saved to: ESRI_LULC_Proportions_Rome_Circle_40m.tif\n"
     ]
    }
   ],
   "source": [
    "\n",
    "# Write output raster\n",
    "with rasterio.open(output_path, 'w', **lst_profile) as dst:\n",
    "    for idx, band_name in enumerate(band_names):\n",
    "        dst.write(proportions_stack[idx, :, :], idx + 1)\n",
    "        dst.set_band_description(idx + 1, band_name)\n",
    "\n",
    "print(\"Proportional LULC raster saved to:\", output_path)\n"
   ]
  }
 ],
 "metadata": {
  "kernelspec": {
   "display_name": ".venv",
   "language": "python",
   "name": "python3"
  },
  "language_info": {
   "codemirror_mode": {
    "name": "ipython",
    "version": 3
   },
   "file_extension": ".py",
   "mimetype": "text/x-python",
   "name": "python",
   "nbconvert_exporter": "python",
   "pygments_lexer": "ipython3",
   "version": "3.10.12"
  }
 },
 "nbformat": 4,
 "nbformat_minor": 2
}
