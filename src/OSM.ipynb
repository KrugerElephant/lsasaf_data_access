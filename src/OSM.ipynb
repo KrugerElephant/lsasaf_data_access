{
 "cells": [
  {
   "cell_type": "code",
   "execution_count": null,
   "metadata": {},
   "outputs": [
    {
     "name": "stderr",
     "output_type": "stream",
     "text": [
      "/home/emaximus/workspace/lsasaf_data_access/.venv/lib/python3.10/site-packages/osmnx/_overpass.py:267: UserWarning: This area is 3,743 times your configured Overpass max query area size. It will automatically be divided up into multiple sub-queries accordingly. This may take a long time.\n",
      "  multi_poly_proj = utils_geo._consolidate_subdivide_geometry(poly_proj)\n"
     ]
    }
   ],
   "source": [
    "import osmnx as ox\n",
    "import geopandas as gpd\n",
    "import matplotlib.pyplot as plt\n",
    "\n",
    "# Define the bounding box: (north, south, east, west)\n",
    "bbox = (41.86843, 41.86726, 12.535509, 12.534124)  # Example coordinates for a small area in Rome\n",
    "\n",
    "# List key-value pairs for tags (e.g., 'building': True)\n",
    "tags = {'building': True}\n",
    "\n",
    "# Retrieve buildings data from OpenStreetMap for the bounding box\n",
    "buildings = ox.features_from_bbox(bbox, tags)\n"
   ]
  },
  {
   "cell_type": "code",
   "execution_count": null,
   "metadata": {},
   "outputs": [],
   "source": [
    "\n",
    "# Clean up the dataframe by removing unnecessary columns\n",
    "buildings = buildings.drop(['nodes', 'building'], axis=1, errors='ignore')\n",
    "\n",
    "# Calculate the centroid of each building's geometry\n",
    "buildings[\"centroid_lat\"] = buildings[\"geometry\"].centroid.y\n",
    "buildings[\"centroid_lng\"] = buildings[\"geometry\"].centroid.x\n",
    "\n",
    "# Convert geometry to a projection suited for area calculation (EPSG:3395 is CEA - equal area)\n",
    "buildings = buildings.to_crs(epsg=3395)\n",
    "\n",
    "# Calculate the area of each building in square meters\n",
    "buildings[\"area\"] = buildings[\"geometry\"].area\n",
    "\n",
    "# Optionally drop the 'geometry' column if you don't need it\n",
    "# buildings = buildings.drop('geometry', axis=1)\n",
    "\n",
    "# Output building data and save to CSV\n",
    "# print(buildings)\n",
    "# buildings.to_csv('buildings_in_bbox.csv')\n",
    "\n",
    "# Calculate the sum of areas and count of buildings\n",
    "total_area = buildings[\"area\"].sum()\n",
    "building_count = buildings.shape[0]\n",
    "avg_area = total_area / building_count\n",
    "\n",
    "print(f\"Total buildings: {building_count}\")\n",
    "print(f\"Sum of building areas: {total_area:.2f} sqm or {total_area / 10**6:.2f} km²\")\n",
    "print(f\"Average building area: {avg_area:.2f} sqm\")\n",
    "\n",
    "# Display a histogram of building areas, excluding extreme outliers\n",
    "quantile = 0.99\n",
    "trimmed_data = buildings[(buildings[\"area\"] > buildings[\"area\"].quantile(1-quantile)) &\n",
    "                         (buildings[\"area\"] < buildings[\"area\"].quantile(quantile))]\n",
    "\n",
    "plt.hist(trimmed_data[\"area\"], bins=100)\n",
    "plt.xlabel(\"Building Area (sqm)\")\n",
    "plt.ylabel(\"Frequency\")\n",
    "plt.title(\"Histogram of Building Areas (Trimmed)\")\n",
    "plt.show()\n"
   ]
  }
 ],
 "metadata": {
  "kernelspec": {
   "display_name": ".venv",
   "language": "python",
   "name": "python3"
  },
  "language_info": {
   "codemirror_mode": {
    "name": "ipython",
    "version": 3
   },
   "file_extension": ".py",
   "mimetype": "text/x-python",
   "name": "python",
   "nbconvert_exporter": "python",
   "pygments_lexer": "ipython3",
   "version": "3.10.12"
  }
 },
 "nbformat": 4,
 "nbformat_minor": 2
}
