{
 "cells": [
  {
   "cell_type": "code",
   "execution_count": 1,
   "metadata": {},
   "outputs": [],
   "source": [
    "import datetime as dt\n",
    "import thredds_lsasaf_utils as tlu\n",
    "\n",
    "import pandas as pd\n",
    "import geopandas as gpd\n",
    "\n",
    "from shapely import wkt\n",
    "from shapely.geometry import Point\n",
    "\n",
    "import rasterio\n",
    "from rasterio.mask import mask\n",
    "\n",
    "import statsmodels.api as sm\n",
    "import statsmodels.formula.api as smf\n",
    "from statsmodels.genmod.families import Gaussian\n",
    "from statsmodels.genmod.families.links import Power\n",
    "from statsmodels.genmod.families import Gamma\n",
    "from statsmodels.genmod.families.links import log, identity\n",
    "\n",
    "import pickle\n",
    "\n",
    "import numpy as np\n",
    "import matplotlib.pyplot as plt\n",
    "from sklearn.model_selection import train_test_split\n",
    "import patsy\n"
   ]
  },
  {
   "cell_type": "code",
   "execution_count": 2,
   "metadata": {},
   "outputs": [],
   "source": [
    "def read_fused_data(filename):\n",
    "\n",
    "    # Replace 'your_file.csv' with the path to your CSV file\n",
    "    file_path = filename\n",
    "\n",
    "    # Load the CSV file into a pandas DataFrame\n",
    "    df = pd.read_csv(file_path)\n",
    "\n",
    "    # Ensure the CSV contains 'lat' and 'lon' columns\n",
    "    if 'lat' not in df.columns or 'lon' not in df.columns:\n",
    "        raise ValueError(\"The CSV file must contain 'lat' and 'lon' columns\")\n",
    "\n",
    "    # Create a GeoDataFrame\n",
    "    geometry = [Point(xy) for xy in zip(df['lon'], df['lat'])]\n",
    "    gdf = gpd.GeoDataFrame(df, geometry=geometry)\n",
    "\n",
    "    # Set the coordinate reference system (CRS) if known, e.g., WGS84 (EPSG:4326)\n",
    "    gdf.set_crs(epsg=4326, inplace=True)\n",
    "\n",
    "    return gdf"
   ]
  },
  {
   "cell_type": "code",
   "execution_count": null,
   "metadata": {},
   "outputs": [],
   "source": [
    "\n",
    "# Read data from .csv file\n",
    "gdf = read_fused_data('fused_geo_data_june_to_august.csv')\n",
    "\n",
    "# Define target and LULC columns\n",
    "target = 'temperature'  # Replace with your target column name\n",
    "gdf = gdf.drop(columns=['lulc_values'])\n",
    "lulc_columns = [col for col in gdf.columns if col.startswith('lulc_')]  # LULC proportions\n",
    "\n",
    "# Ensure categorical variables are treated as such\n",
    "gdf['hour'] = gdf['hour'].astype('category')\n",
    "gdf['month'] = gdf['month'].astype('category')\n",
    "gdf['year'] = gdf['year'].astype('category')\n",
    "\n",
    "# Drop rows with missing values\n",
    "gdf = gdf.dropna(subset=[target, 'hour', 'month', 'year'] + lulc_columns)\n"
   ]
  },
  {
   "cell_type": "code",
   "execution_count": null,
   "metadata": {},
   "outputs": [],
   "source": [
    "from statsmodels.regression.mixed_linear_model import MixedLM\n",
    "\n",
    "# Ensure categorical variables\n",
    "gdf['hour'] = gdf['hour'].astype('category')\n",
    "gdf['month'] = gdf['month'].astype('category')\n",
    "gdf['year'] = gdf['year'].astype('category')\n",
    "\n",
    "# Fixed effects formula (interaction between hour and LULC, month as main effect)\n",
    "fixed_effects_formula = f\"{target} ~ C(hour) * ({' + '.join(lulc_columns)}) + C(month)\"\n",
    "\n",
    "# Design matrices for fixed effects\n",
    "import patsy\n",
    "y, X = patsy.dmatrices(fixed_effects_formula, data=gdf, return_type='dataframe')\n",
    "\n",
    "# Random effects (group by 'year')\n",
    "groups = gdf['year']\n",
    "\n",
    "# Fit the mixed-effects model\n",
    "mixed_model = MixedLM(endog=y, exog=X, groups=groups)\n",
    "mixed_results = mixed_model.fit()\n",
    "\n",
    "# Display results\n",
    "print(mixed_results.summary())\n"
   ]
  }
 ],
 "metadata": {
  "kernelspec": {
   "display_name": ".venv",
   "language": "python",
   "name": "python3"
  },
  "language_info": {
   "codemirror_mode": {
    "name": "ipython",
    "version": 3
   },
   "file_extension": ".py",
   "mimetype": "text/x-python",
   "name": "python",
   "nbconvert_exporter": "python",
   "pygments_lexer": "ipython3",
   "version": "3.10.12"
  }
 },
 "nbformat": 4,
 "nbformat_minor": 2
}
