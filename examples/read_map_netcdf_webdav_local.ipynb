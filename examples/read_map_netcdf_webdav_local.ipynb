{
 "cells": [
  {
   "cell_type": "markdown",
   "id": "b2d687fd-3dc8-4d26-bbdc-f961cae79b2c",
   "metadata": {},
   "source": [
    "**Example script for direct access of 1 file and produce a simple map**\n",
    "\n",
    "**Assumes that the Data server has been mapped as a network drive or the file has been downloaded**\n",
    "\n",
    "**See https://gitlab.com/helpdesk.landsaf/lsasaf_data_access/-/wikis/data/webdav for details**\n",
    "\n",
    "To run this example you will need the following packages: xarray, matplotlib and cartopy. Can be installed via conda with\n",
    "```shell\n",
    "conda install -c conda-forge xarray h5netcdf matplotlib cartopy \n",
    "```\n",
    "\n",
    "We **recomend** this approach, using map network drive in windows to **load/process large amounts of data**.\n"
   ]
  },
  {
   "cell_type": "code",
   "execution_count": 13,
   "id": "65801fbb-34bf-498d-80a8-4da691da1a35",
   "metadata": {},
   "outputs": [],
   "source": [
    "# Required package to load data \n",
    "import xarray as xr\n",
    "import os \n",
    "\n",
    "# Required packages for ploting \n",
    "import matplotlib.pyplot as plt\n",
    "import cartopy.crs as ccrs"
   ]
  },
  {
   "cell_type": "code",
   "execution_count": 2,
   "id": "3f1aa6f0-5c19-405f-8422-935c8ad93b6f",
   "metadata": {},
   "outputs": [],
   "source": [
    "# open the netcdf file with xarray as a dataset. \n",
    "# Assuming the WebDAV was maped into drive \"Z:\\\" / or replace with local drive if file was downloaded\n",
    "# use os.path.join to avoid windows/linux problems\n",
    "file_path_nc=os.path.join('Z:','PRODUCTS','MSG','MDSSFTD','NETCDF',\n",
    "#                       '2022','08','02','NETCDF4_LSASAF_MSG_MDSSFTD_MSG-Disk_202208021515.nc')\n",
    "dsNC = xr.open_dataset(file_path_nc)\n",
    "print(dsNC)"
   ]
  },
  {
   "cell_type": "code",
   "execution_count": null,
   "id": "019182a3-a226-4dc0-864d-1b6e6906237d",
   "metadata": {},
   "outputs": [],
   "source": [
    "# Create a simple plots of the DSSF_TOT variable \n",
    "pvar = dsH5.DSSF_TOT.isel(time=0)\n",
    "ax = plt.axes(projection=ccrs.Orthographic(0, 0))  # to use the Orthographic projection \n",
    "#ax = plt.axes(projection=ccrs.PlateCarree())      # to use simple lat/lon \n",
    "ax.set_global()\n",
    "pvar.plot.imshow(ax=ax, transform=ccrs.PlateCarree(),interpolation='nearest')\n",
    "ax.coastlines()"
   ]
  }
 ],
 "metadata": {
  "kernelspec": {
   "display_name": "Python 3 (ipykernel)",
   "language": "python",
   "name": "python3"
  },
  "language_info": {
   "codemirror_mode": {
    "name": "ipython",
    "version": 3
   },
   "file_extension": ".py",
   "mimetype": "text/x-python",
   "name": "python",
   "nbconvert_exporter": "python",
   "pygments_lexer": "ipython3",
   "version": "3.9.15"
  }
 },
 "nbformat": 4,
 "nbformat_minor": 5
}
